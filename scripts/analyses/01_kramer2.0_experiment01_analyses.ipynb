{
 "cells": [
  {
   "cell_type": "markdown",
   "metadata": {},
   "source": [
    "# kramer2.0 Experiment 01: Analyses\n",
    "## Angelique I. Delarazan\n",
    "### kramer2.0_experiment_01_vB5\n",
    "### Retrieval Tasks: Character-Cued Recall and Event Distance Task"
   ]
  },
  {
   "cell_type": "markdown",
   "metadata": {},
   "source": [
    "## Set Up"
   ]
  },
  {
   "cell_type": "code",
   "execution_count": 1,
   "metadata": {},
   "outputs": [
    {
     "name": "stderr",
     "output_type": "stream",
     "text": [
      "/Users/aidelarazan/miniconda3/envs/kramer/lib/python3.8/site-packages/outdated/utils.py:14: OutdatedPackageWarning: The package pingouin is out of date. Your version is 0.5.3, the latest is 0.5.4.\n",
      "Set the environment variable OUTDATED_IGNORE=1 to disable these warnings.\n",
      "  return warn(\n"
     ]
    }
   ],
   "source": [
    "import matplotlib.pyplot as plt\n",
    "import numpy as np\n",
    "import os\n",
    "import pandas as pd\n",
    "import re\n",
    "import seaborn as sns\n",
    "from scipy import stats\n",
    "import itertools\n",
    "import statsmodels.api as sm \n",
    "from statsmodels.formula.api import ols \n",
    "from statsmodels.stats.anova import AnovaRM\n",
    "from statsmodels.stats.multicomp import pairwise_tukeyhsd\n",
    "import pingouin as pg\n",
    "from pingouin import anova as pg_anova\n",
    "from statannot import add_stat_annotation"
   ]
  },
  {
   "cell_type": "markdown",
   "metadata": {},
   "source": [
    "## Charcter-Cued Recall"
   ]
  },
  {
   "cell_type": "code",
   "execution_count": 2,
   "metadata": {},
   "outputs": [
    {
     "name": "stdout",
     "output_type": "stream",
     "text": [
      "['subject', 'version', 'character', 'coherence', 'lag', 'plot', 'response', 'rt', 'word_count', 'condition']\n"
     ]
    },
    {
     "data": {
      "text/html": [
       "<div>\n",
       "<style scoped>\n",
       "    .dataframe tbody tr th:only-of-type {\n",
       "        vertical-align: middle;\n",
       "    }\n",
       "\n",
       "    .dataframe tbody tr th {\n",
       "        vertical-align: top;\n",
       "    }\n",
       "\n",
       "    .dataframe thead th {\n",
       "        text-align: right;\n",
       "    }\n",
       "</style>\n",
       "<table border=\"1\" class=\"dataframe\">\n",
       "  <thead>\n",
       "    <tr style=\"text-align: right;\">\n",
       "      <th></th>\n",
       "      <th>subject</th>\n",
       "      <th>version</th>\n",
       "      <th>character</th>\n",
       "      <th>coherence</th>\n",
       "      <th>lag</th>\n",
       "      <th>plot</th>\n",
       "      <th>response</th>\n",
       "      <th>rt</th>\n",
       "      <th>word_count</th>\n",
       "      <th>condition</th>\n",
       "    </tr>\n",
       "  </thead>\n",
       "  <tbody>\n",
       "    <tr>\n",
       "      <th>0</th>\n",
       "      <td>301</td>\n",
       "      <td>6</td>\n",
       "      <td>Melvin</td>\n",
       "      <td>unrelated</td>\n",
       "      <td>long</td>\n",
       "      <td>sideplot</td>\n",
       "      <td>{\"Q0\":\"Melvin needed a recipe from his grandma...</td>\n",
       "      <td>189901.7</td>\n",
       "      <td>71</td>\n",
       "      <td>unrelated_long</td>\n",
       "    </tr>\n",
       "    <tr>\n",
       "      <th>1</th>\n",
       "      <td>301</td>\n",
       "      <td>6</td>\n",
       "      <td>Beatrice</td>\n",
       "      <td>coherent</td>\n",
       "      <td>short</td>\n",
       "      <td>sideplot</td>\n",
       "      <td>{\"Q0\":\"Fist, she asked Charles to chose betwee...</td>\n",
       "      <td>293047.3</td>\n",
       "      <td>73</td>\n",
       "      <td>coherent_short</td>\n",
       "    </tr>\n",
       "    <tr>\n",
       "      <th>2</th>\n",
       "      <td>301</td>\n",
       "      <td>6</td>\n",
       "      <td>Johnny</td>\n",
       "      <td>coherent</td>\n",
       "      <td>long</td>\n",
       "      <td>sideplot</td>\n",
       "      <td>{\"Q0\":\"Johnny called Charles to tell him about...</td>\n",
       "      <td>181397.2</td>\n",
       "      <td>39</td>\n",
       "      <td>coherent_long</td>\n",
       "    </tr>\n",
       "    <tr>\n",
       "      <th>3</th>\n",
       "      <td>301</td>\n",
       "      <td>6</td>\n",
       "      <td>Sandra</td>\n",
       "      <td>unrelated</td>\n",
       "      <td>short</td>\n",
       "      <td>sideplot</td>\n",
       "      <td>{\"Q0\":\"Sandra first asked for Charles opinion ...</td>\n",
       "      <td>181062.9</td>\n",
       "      <td>89</td>\n",
       "      <td>unrelated_short</td>\n",
       "    </tr>\n",
       "    <tr>\n",
       "      <th>4</th>\n",
       "      <td>301</td>\n",
       "      <td>6</td>\n",
       "      <td>Charles</td>\n",
       "      <td>mainplot</td>\n",
       "      <td>mainplot</td>\n",
       "      <td>mainplot</td>\n",
       "      <td>{\"Q0\":\"Charles was wearing a beige sport coat ...</td>\n",
       "      <td>442870.5</td>\n",
       "      <td>226</td>\n",
       "      <td>mainplot_mainplot</td>\n",
       "    </tr>\n",
       "  </tbody>\n",
       "</table>\n",
       "</div>"
      ],
      "text/plain": [
       "   subject  version character  coherence       lag      plot  \\\n",
       "0      301        6    Melvin  unrelated      long  sideplot   \n",
       "1      301        6  Beatrice   coherent     short  sideplot   \n",
       "2      301        6    Johnny   coherent      long  sideplot   \n",
       "3      301        6    Sandra  unrelated     short  sideplot   \n",
       "4      301        6   Charles   mainplot  mainplot  mainplot   \n",
       "\n",
       "                                            response        rt  word_count  \\\n",
       "0  {\"Q0\":\"Melvin needed a recipe from his grandma...  189901.7          71   \n",
       "1  {\"Q0\":\"Fist, she asked Charles to chose betwee...  293047.3          73   \n",
       "2  {\"Q0\":\"Johnny called Charles to tell him about...  181397.2          39   \n",
       "3  {\"Q0\":\"Sandra first asked for Charles opinion ...  181062.9          89   \n",
       "4  {\"Q0\":\"Charles was wearing a beige sport coat ...  442870.5         226   \n",
       "\n",
       "           condition  \n",
       "0     unrelated_long  \n",
       "1     coherent_short  \n",
       "2      coherent_long  \n",
       "3    unrelated_short  \n",
       "4  mainplot_mainplot  "
      ]
     },
     "execution_count": 2,
     "metadata": {},
     "output_type": "execute_result"
    }
   ],
   "source": [
    "recall = pd.read_csv('~/Box Sync/aidelarazan_box/Projects/kramer2.0/data/kramer2.0_vB5/kramer2.0_vB5_sub-all_desc-recall.csv')\n",
    "recall['condition'] = recall['coherence'] + '_' + recall['lag']\n",
    "print(recall.columns.tolist())\n",
    "recall.head()"
   ]
  },
  {
   "cell_type": "code",
   "execution_count": 3,
   "metadata": {},
   "outputs": [
    {
     "name": "stdout",
     "output_type": "stream",
     "text": [
      "\n",
      "=============\n",
      "ANOVA SUMMARY\n",
      "=============\n",
      "\n",
      "Source                  SS    ddof1    ddof2         MS       F    p-unc    p-GG-corr    ng2    eps\n",
      "---------------  ---------  -------  -------  ---------  ------  -------  -----------  -----  -----\n",
      "coherence        33586.673        1       38  33586.673  37.065    0.000        0.000  0.116  1.000\n",
      "lag                  0.160        1       38      0.160   0.000    0.989        0.989  0.000  1.000\n",
      "coherence * lag      0.776        1       38      0.776   0.001    0.971        0.971  0.000  1.000\n",
      "\n",
      "\n",
      "==============\n",
      "POST HOC TESTS\n",
      "==============\n",
      "\n",
      "Contrast    A               B                Paired    Parametric         T     dof  alternative      p-unc    p-corr  p-adjust        BF10    hedges\n",
      "----------  --------------  ---------------  --------  ------------  ------  ------  -------------  -------  --------  ----------  --------  --------\n",
      "condition   coherent_long   coherent_short   True      True           0.013  38.000  two-sided        0.990     1.000  bonf           0.173     0.002\n",
      "condition   coherent_long   unrelated_long   True      True           4.671  38.000  two-sided        0.000     0.000  bonf         607.877     0.698\n",
      "condition   coherent_long   unrelated_short  True      True           4.526  38.000  two-sided        0.000     0.000  bonf         404.769     0.716\n",
      "condition   coherent_short  unrelated_long   True      True           4.167  38.000  two-sided        0.000     0.001  bonf         150.100     0.698\n",
      "condition   coherent_short  unrelated_short  True      True           4.875  38.000  two-sided        0.000     0.000  bonf        1086.817     0.717\n",
      "condition   unrelated_long  unrelated_short  True      True          -0.033  38.000  two-sided        0.974     1.000  bonf           0.173    -0.005\n",
      "\n"
     ]
    }
   ],
   "source": [
    "aov = pg.rm_anova(\n",
    "    data=recall[recall['coherence']!='mainplot'],\n",
    "    dv='word_count',\n",
    "    within=['coherence', 'lag'],\n",
    "    subject='subject',\n",
    "    detailed=True\n",
    ")\n",
    "\n",
    "pg.print_table(aov)\n",
    "\n",
    "post_hoc = pg.pairwise_tests(\n",
    "    data=recall[recall['coherence']!='mainplot'],\n",
    "    dv='word_count',\n",
    "    within='condition',\n",
    "    subject='subject',\n",
    "    padjust='bonf'\n",
    ")\n",
    "\n",
    "pg.print_table(post_hoc)"
   ]
  },
  {
   "cell_type": "code",
   "execution_count": 4,
   "metadata": {},
   "outputs": [
    {
     "name": "stdout",
     "output_type": "stream",
     "text": [
      "    T    dof  alternative      p-val  CI95%            cohen-d      BF10    power\n",
      "-----  -----  -------------  -------  -------------  ---------  --------  -------\n",
      "4.488    154  two-sided        0.000  [16.43 42.26]      0.719  1249.942    0.994\n",
      "\n",
      "\n"
     ]
    }
   ],
   "source": [
    "ttest = pg.ttest(\n",
    "    x=recall[recall['coherence']=='coherent'].groupby(['subject', 'coherence', 'lag', 'condition']).sum().reset_index()['word_count'],\n",
    "    y=recall[recall['coherence']=='unrelated'].groupby(['subject', 'coherence', 'lag', 'condition']).sum().reset_index()['word_count'],\n",
    "    paired=False\n",
    ")\n",
    "\n",
    "pg.print_table(ttest)\n",
    "\n",
    "print()"
   ]
  },
  {
   "cell_type": "code",
   "execution_count": 5,
   "metadata": {},
   "outputs": [
    {
     "name": "stdout",
     "output_type": "stream",
     "text": [
      "    T    dof  alternative      p-val  CI95%              cohen-d    BF10    power\n",
      "-----  -----  -------------  -------  ---------------  ---------  ------  -------\n",
      "0.009    154  two-sided        0.993  [-13.67  13.8 ]      0.001   0.173    0.050\n",
      "\n",
      "\n"
     ]
    }
   ],
   "source": [
    "ttest = pg.ttest(\n",
    "    x=recall[recall['lag']=='short'].groupby(['subject', 'coherence', 'lag', 'condition']).sum().reset_index()['word_count'],\n",
    "    y=recall[recall['lag']=='long'].groupby(['subject', 'coherence', 'lag', 'condition']).sum().reset_index()['word_count'],\n",
    "    paired=False\n",
    ")\n",
    "\n",
    "pg.print_table(ttest)\n",
    "\n",
    "print()"
   ]
  },
  {
   "cell_type": "markdown",
   "metadata": {},
   "source": [
    "## Event Distance Task"
   ]
  },
  {
   "cell_type": "code",
   "execution_count": 6,
   "metadata": {},
   "outputs": [
    {
     "name": "stdout",
     "output_type": "stream",
     "text": [
      "['subject', 'version', 'character_1', 'act_1', 'event_1', 'image_1', 'position_1', 'character_2', 'act_2', 'event_2', 'image_2', 'position_2', 'coherence', 'lag', 'plot', 'response', 'correct_distance', 'rt', 'stimulus', 'condition', 'trial_index', 'error', 'abs_error']\n"
     ]
    },
    {
     "data": {
      "text/html": [
       "<div>\n",
       "<style scoped>\n",
       "    .dataframe tbody tr th:only-of-type {\n",
       "        vertical-align: middle;\n",
       "    }\n",
       "\n",
       "    .dataframe tbody tr th {\n",
       "        vertical-align: top;\n",
       "    }\n",
       "\n",
       "    .dataframe thead th {\n",
       "        text-align: right;\n",
       "    }\n",
       "</style>\n",
       "<table border=\"1\" class=\"dataframe\">\n",
       "  <thead>\n",
       "    <tr style=\"text-align: right;\">\n",
       "      <th></th>\n",
       "      <th>subject</th>\n",
       "      <th>version</th>\n",
       "      <th>character_1</th>\n",
       "      <th>act_1</th>\n",
       "      <th>event_1</th>\n",
       "      <th>image_1</th>\n",
       "      <th>position_1</th>\n",
       "      <th>character_2</th>\n",
       "      <th>act_2</th>\n",
       "      <th>event_2</th>\n",
       "      <th>...</th>\n",
       "      <th>lag</th>\n",
       "      <th>plot</th>\n",
       "      <th>response</th>\n",
       "      <th>correct_distance</th>\n",
       "      <th>rt</th>\n",
       "      <th>stimulus</th>\n",
       "      <th>condition</th>\n",
       "      <th>trial_index</th>\n",
       "      <th>error</th>\n",
       "      <th>abs_error</th>\n",
       "    </tr>\n",
       "  </thead>\n",
       "  <tbody>\n",
       "    <tr>\n",
       "      <th>0</th>\n",
       "      <td>301</td>\n",
       "      <td>6</td>\n",
       "      <td>Charles</td>\n",
       "      <td>1</td>\n",
       "      <td>E</td>\n",
       "      <td>3</td>\n",
       "      <td>67</td>\n",
       "      <td>Charles</td>\n",
       "      <td>2</td>\n",
       "      <td>A</td>\n",
       "      <td>...</td>\n",
       "      <td>mainplot</td>\n",
       "      <td>NaN</td>\n",
       "      <td>118</td>\n",
       "      <td>8</td>\n",
       "      <td>7400.5</td>\n",
       "      <td>[\"&lt;img src=\\\"jspsych/stimuli/charles1E3.png\\\" ...</td>\n",
       "      <td>mainplot_mainplot</td>\n",
       "      <td>25</td>\n",
       "      <td>110</td>\n",
       "      <td>110</td>\n",
       "    </tr>\n",
       "    <tr>\n",
       "      <th>1</th>\n",
       "      <td>301</td>\n",
       "      <td>6</td>\n",
       "      <td>Charles</td>\n",
       "      <td>1</td>\n",
       "      <td>B</td>\n",
       "      <td>2</td>\n",
       "      <td>18</td>\n",
       "      <td>Charles</td>\n",
       "      <td>1</td>\n",
       "      <td>B</td>\n",
       "      <td>...</td>\n",
       "      <td>mainplot</td>\n",
       "      <td>NaN</td>\n",
       "      <td>114</td>\n",
       "      <td>2</td>\n",
       "      <td>5674.9</td>\n",
       "      <td>[\"&lt;img src=\\\"jspsych/stimuli/charles1B2.png\\\" ...</td>\n",
       "      <td>mainplot_mainplot</td>\n",
       "      <td>26</td>\n",
       "      <td>112</td>\n",
       "      <td>112</td>\n",
       "    </tr>\n",
       "    <tr>\n",
       "      <th>2</th>\n",
       "      <td>301</td>\n",
       "      <td>6</td>\n",
       "      <td>Sandra</td>\n",
       "      <td>1</td>\n",
       "      <td>A</td>\n",
       "      <td>2</td>\n",
       "      <td>58</td>\n",
       "      <td>Sandra</td>\n",
       "      <td>2</td>\n",
       "      <td>B</td>\n",
       "      <td>...</td>\n",
       "      <td>short</td>\n",
       "      <td>NaN</td>\n",
       "      <td>101</td>\n",
       "      <td>42</td>\n",
       "      <td>7674.4</td>\n",
       "      <td>[\"&lt;img src=\\\"jspsych/stimuli/sandra1A2.png\\\" w...</td>\n",
       "      <td>unrelated_short</td>\n",
       "      <td>27</td>\n",
       "      <td>59</td>\n",
       "      <td>59</td>\n",
       "    </tr>\n",
       "    <tr>\n",
       "      <th>3</th>\n",
       "      <td>301</td>\n",
       "      <td>6</td>\n",
       "      <td>Johnny</td>\n",
       "      <td>1</td>\n",
       "      <td>A</td>\n",
       "      <td>7</td>\n",
       "      <td>31</td>\n",
       "      <td>Johnny</td>\n",
       "      <td>2</td>\n",
       "      <td>A</td>\n",
       "      <td>...</td>\n",
       "      <td>long</td>\n",
       "      <td>NaN</td>\n",
       "      <td>90</td>\n",
       "      <td>103</td>\n",
       "      <td>9193.8</td>\n",
       "      <td>[\"&lt;img src=\\\"jspsych/stimuli/johnny1A7.png\\\" w...</td>\n",
       "      <td>coherent_long</td>\n",
       "      <td>28</td>\n",
       "      <td>-13</td>\n",
       "      <td>13</td>\n",
       "    </tr>\n",
       "    <tr>\n",
       "      <th>4</th>\n",
       "      <td>301</td>\n",
       "      <td>6</td>\n",
       "      <td>Sandra</td>\n",
       "      <td>1</td>\n",
       "      <td>A</td>\n",
       "      <td>8</td>\n",
       "      <td>64</td>\n",
       "      <td>Sandra</td>\n",
       "      <td>2</td>\n",
       "      <td>B</td>\n",
       "      <td>...</td>\n",
       "      <td>short</td>\n",
       "      <td>NaN</td>\n",
       "      <td>87</td>\n",
       "      <td>34</td>\n",
       "      <td>9309.0</td>\n",
       "      <td>[\"&lt;img src=\\\"jspsych/stimuli/sandra1A8.png\\\" w...</td>\n",
       "      <td>unrelated_short</td>\n",
       "      <td>29</td>\n",
       "      <td>53</td>\n",
       "      <td>53</td>\n",
       "    </tr>\n",
       "  </tbody>\n",
       "</table>\n",
       "<p>5 rows × 23 columns</p>\n",
       "</div>"
      ],
      "text/plain": [
       "   subject  version character_1  act_1 event_1  image_1  position_1  \\\n",
       "0      301        6     Charles      1       E        3          67   \n",
       "1      301        6     Charles      1       B        2          18   \n",
       "2      301        6      Sandra      1       A        2          58   \n",
       "3      301        6      Johnny      1       A        7          31   \n",
       "4      301        6      Sandra      1       A        8          64   \n",
       "\n",
       "  character_2  act_2 event_2  ...       lag  plot response correct_distance  \\\n",
       "0     Charles      2       A  ...  mainplot   NaN      118                8   \n",
       "1     Charles      1       B  ...  mainplot   NaN      114                2   \n",
       "2      Sandra      2       B  ...     short   NaN      101               42   \n",
       "3      Johnny      2       A  ...      long   NaN       90              103   \n",
       "4      Sandra      2       B  ...     short   NaN       87               34   \n",
       "\n",
       "       rt                                           stimulus  \\\n",
       "0  7400.5  [\"<img src=\\\"jspsych/stimuli/charles1E3.png\\\" ...   \n",
       "1  5674.9  [\"<img src=\\\"jspsych/stimuli/charles1B2.png\\\" ...   \n",
       "2  7674.4  [\"<img src=\\\"jspsych/stimuli/sandra1A2.png\\\" w...   \n",
       "3  9193.8  [\"<img src=\\\"jspsych/stimuli/johnny1A7.png\\\" w...   \n",
       "4  9309.0  [\"<img src=\\\"jspsych/stimuli/sandra1A8.png\\\" w...   \n",
       "\n",
       "           condition  trial_index error abs_error  \n",
       "0  mainplot_mainplot           25   110       110  \n",
       "1  mainplot_mainplot           26   112       112  \n",
       "2    unrelated_short           27    59        59  \n",
       "3      coherent_long           28   -13        13  \n",
       "4    unrelated_short           29    53        53  \n",
       "\n",
       "[5 rows x 23 columns]"
      ]
     },
     "execution_count": 6,
     "metadata": {},
     "output_type": "execute_result"
    }
   ],
   "source": [
    "distance = pd.read_csv('~/Box Sync/aidelarazan_box/Projects/kramer2.0/data/kramer2.0_vB5/kramer2.0_vB5_sub-all_desc-distance.csv')\n",
    "distance['condition'] = distance['coherence'] + '_' + distance['lag']\n",
    "print(distance.columns.tolist())\n",
    "distance.head()"
   ]
  },
  {
   "cell_type": "code",
   "execution_count": 7,
   "metadata": {},
   "outputs": [],
   "source": [
    "distance = distance[distance['coherence']!='mainplot'].groupby(['subject', 'coherence', 'lag', 'condition']).mean().reset_index()"
   ]
  },
  {
   "cell_type": "code",
   "execution_count": 8,
   "metadata": {},
   "outputs": [
    {
     "name": "stdout",
     "output_type": "stream",
     "text": [
      "\n",
      "=============\n",
      "ANOVA SUMMARY\n",
      "=============\n",
      "\n",
      "Source                  SS    ddof1    ddof2         MS        F    p-unc    p-GG-corr    ng2    eps\n",
      "---------------  ---------  -------  -------  ---------  -------  -------  -----------  -----  -----\n",
      "coherence          161.295        1       38    161.295    1.225    0.275        0.275  0.006  1.000\n",
      "lag              61178.977        1       38  61178.977  694.677    0.000        0.000  0.689  1.000\n",
      "coherence * lag    251.726        1       38    251.726    2.431    0.127        0.127  0.009  1.000\n",
      "\n",
      "\n",
      "==============\n",
      "POST HOC TESTS\n",
      "==============\n",
      "\n",
      "Contrast    A               B                Paired    Parametric          T     dof  alternative      p-unc    p-corr  p-adjust                         BF10    hedges\n",
      "----------  --------------  ---------------  --------  ------------  -------  ------  -------------  -------  --------  ----------  -------------------------  --------\n",
      "condition   coherent_long   coherent_short   True      True          -14.879  38.000  two-sided        0.000     0.000  bonf              278600000000000.000    -2.533\n",
      "condition   coherent_long   unrelated_long   True      True            0.266  38.000  two-sided        0.791     1.000  bonf                            0.178     0.041\n",
      "condition   coherent_long   unrelated_short  True      True          -23.008  38.000  two-sided        0.000     0.000  bonf        518600000000000000000.000    -3.340\n",
      "condition   coherent_short  unrelated_long   True      True           13.290  38.000  two-sided        0.000     0.000  bonf                8524000000000.000     2.559\n",
      "condition   coherent_short  unrelated_short  True      True           -1.575  38.000  two-sided        0.124     0.742  bonf                            0.535    -0.310\n",
      "condition   unrelated_long  unrelated_short  True      True          -22.153  38.000  two-sided        0.000     0.000  bonf        141000000000000000000.000    -3.365\n",
      "\n"
     ]
    }
   ],
   "source": [
    "aov = pg.rm_anova(\n",
    "    data=distance[distance['coherence']!='mainplot'],\n",
    "    dv='error',\n",
    "    within=['coherence', 'lag'],\n",
    "    subject='subject',\n",
    "    detailed=True\n",
    ")\n",
    "\n",
    "pg.print_table(aov)\n",
    "\n",
    "post_hoc = pg.pairwise_tests(\n",
    "    data=distance[distance['coherence']!='mainplot'],\n",
    "    dv='error',\n",
    "    within='condition',\n",
    "    subject='subject',\n",
    "    padjust='bonf'\n",
    ")\n",
    "\n",
    "pg.print_table(post_hoc)"
   ]
  },
  {
   "cell_type": "code",
   "execution_count": 9,
   "metadata": {},
   "outputs": [
    {
     "name": "stdout",
     "output_type": "stream",
     "text": [
      "\n",
      "=============\n",
      "ANOVA SUMMARY\n",
      "=============\n",
      "\n",
      "Source                 SS    ddof1    ddof2        MS       F    p-unc    p-GG-corr    ng2    eps\n",
      "---------------  --------  -------  -------  --------  ------  -------  -----------  -----  -----\n",
      "coherence          39.061        1       38    39.061   0.472    0.496        0.496  0.002  1.000\n",
      "lag              9801.091        1       38  9801.091  44.714    0.000        0.000  0.304  1.000\n",
      "coherence * lag   180.040        1       38   180.040   3.110    0.086        0.086  0.008  1.000\n",
      "\n",
      "\n",
      "==============\n",
      "POST HOC TESTS\n",
      "==============\n",
      "\n",
      "Contrast    A               B                Paired    Parametric         T     dof  alternative      p-unc    p-corr  p-adjust           BF10    hedges\n",
      "----------  --------------  ---------------  --------  ------------  ------  ------  -------------  -------  --------  ----------  -----------  --------\n",
      "condition   coherent_long   coherent_short   True      True          -4.802  38.000  two-sided        0.000     0.000  bonf            882.168    -1.063\n",
      "condition   coherent_long   unrelated_long   True      True           0.691  38.000  two-sided        0.494     1.000  bonf              0.216     0.099\n",
      "condition   coherent_long   unrelated_short  True      True          -6.765  38.000  two-sided        0.000     0.000  bonf         275800.000    -1.421\n",
      "condition   coherent_short  unrelated_long   True      True           4.877  38.000  two-sided        0.000     0.000  bonf           1092.984     1.172\n",
      "condition   coherent_short  unrelated_short  True      True          -1.493  38.000  two-sided        0.144     0.862  bonf              0.479    -0.244\n",
      "condition   unrelated_long  unrelated_short  True      True          -7.309  38.000  two-sided        0.000     0.000  bonf        1363000.000    -1.548\n",
      "\n"
     ]
    }
   ],
   "source": [
    "aov = pg.rm_anova(\n",
    "    data=distance[distance['coherence']!='mainplot'],\n",
    "    dv='abs_error',\n",
    "    within=['coherence', 'lag'],\n",
    "    subject='subject',\n",
    "    detailed=True\n",
    ")\n",
    "\n",
    "pg.print_table(aov)\n",
    "\n",
    "post_hoc = pg.pairwise_tests(\n",
    "    data=distance[distance['coherence']!='mainplot'],\n",
    "    dv='abs_error',\n",
    "    within='condition',\n",
    "    subject='subject',\n",
    "    padjust='bonf'\n",
    ")\n",
    "\n",
    "pg.print_table(post_hoc)"
   ]
  },
  {
   "cell_type": "code",
   "execution_count": 10,
   "metadata": {},
   "outputs": [
    {
     "name": "stdout",
     "output_type": "stream",
     "text": [
      "    T    dof  alternative      p-val  CI95%            cohen-d            BF10    power\n",
      "-----  -----  -------------  -------  -------------  ---------  --------------  -------\n",
      "8.395     77  two-sided        0.000  [12.09 19.61]      1.307  4696000000.000    1.000\n",
      "\n",
      "\n"
     ]
    }
   ],
   "source": [
    "ttest = pg.ttest(\n",
    "    x=distance[distance['lag']=='short']['abs_error'],\n",
    "    y=distance[distance['lag']=='long']['abs_error'],\n",
    "    paired=True\n",
    ")\n",
    "\n",
    "pg.print_table(ttest)\n",
    "\n",
    "print()"
   ]
  },
  {
   "cell_type": "code",
   "execution_count": 11,
   "metadata": {},
   "outputs": [
    {
     "name": "stdout",
     "output_type": "stream",
     "text": [
      "     T    dof  alternative      p-val  CI95%          cohen-d    BF10    power\n",
      "------  -----  -------------  -------  -----------  ---------  ------  -------\n",
      "-0.738     77  two-sided        0.463  [-3.7  1.7]      0.069   0.162    0.092\n",
      "\n",
      "\n"
     ]
    }
   ],
   "source": [
    "ttest = pg.ttest(\n",
    "    x=distance[distance['coherence']=='coherent']['abs_error'],\n",
    "    y=distance[distance['coherence']=='unrelated']['abs_error'],\n",
    "    paired=True\n",
    ")\n",
    "\n",
    "pg.print_table(ttest)\n",
    "\n",
    "print()"
   ]
  },
  {
   "cell_type": "code",
   "execution_count": 13,
   "metadata": {},
   "outputs": [
    {
     "name": "stdout",
     "output_type": "stream",
     "text": [
      "     T    dof  alternative      p-val  CI95%            cohen-d                                      BF10    power\n",
      "------  -----  -------------  -------  -------------  ---------  ----------------------------------------  -------\n",
      "25.007     77  two-sided        0.000  [36.45 42.76]      2.934  211199999999999984816139969721532416.000    1.000\n",
      "\n",
      "\n"
     ]
    }
   ],
   "source": [
    "ttest = pg.ttest(\n",
    "    x=distance[distance['lag']=='short']['error'],\n",
    "    y=distance[distance['lag']=='long']['error'],\n",
    "    paired=True\n",
    ")\n",
    "\n",
    "pg.print_table(ttest)\n",
    "\n",
    "print()"
   ]
  },
  {
   "cell_type": "code",
   "execution_count": 14,
   "metadata": {},
   "outputs": [
    {
     "name": "stdout",
     "output_type": "stream",
     "text": [
      "     T    dof  alternative      p-val  CI95%            cohen-d    BF10    power\n",
      "------  -----  -------------  -------  -------------  ---------  ------  -------\n",
      "-1.163     77  two-sided        0.249  [-5.52  1.45]      0.085   0.238    0.114\n",
      "\n",
      "\n"
     ]
    }
   ],
   "source": [
    "ttest = pg.ttest(\n",
    "    x=distance[distance['coherence']=='coherent']['error'],\n",
    "    y=distance[distance['coherence']=='unrelated']['error'],\n",
    "    paired=True\n",
    ")\n",
    "\n",
    "pg.print_table(ttest)\n",
    "\n",
    "print()"
   ]
  }
 ],
 "metadata": {
  "kernelspec": {
   "display_name": "kramer",
   "language": "python",
   "name": "python3"
  },
  "language_info": {
   "codemirror_mode": {
    "name": "ipython",
    "version": 3
   },
   "file_extension": ".py",
   "mimetype": "text/x-python",
   "name": "python",
   "nbconvert_exporter": "python",
   "pygments_lexer": "ipython3",
   "version": "3.8.10"
  }
 },
 "nbformat": 4,
 "nbformat_minor": 2
}
