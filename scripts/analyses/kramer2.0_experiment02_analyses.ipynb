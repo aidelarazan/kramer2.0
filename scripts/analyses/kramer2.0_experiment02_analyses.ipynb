{
 "cells": [
  {
   "cell_type": "markdown",
   "metadata": {},
   "source": [
    "# kramer2.0 Experiment 02: Analyses\n",
    "## Angelique I. Delarazan\n",
    "### kramer2.0_experiment_02_vA5\n",
    "### Retrieval Tasks: Character-Cued Recall and Timeline Task"
   ]
  },
  {
   "cell_type": "markdown",
   "metadata": {},
   "source": [
    "## Set Up"
   ]
  },
  {
   "cell_type": "code",
   "execution_count": 2,
   "metadata": {},
   "outputs": [],
   "source": [
    "import matplotlib.pyplot as plt\n",
    "import numpy as np\n",
    "import os\n",
    "import pandas as pd\n",
    "import re\n",
    "import seaborn as sns\n",
    "from scipy import stats\n",
    "import itertools\n",
    "import statsmodels.api as sm \n",
    "from statsmodels.formula.api import ols \n",
    "from statsmodels.stats.anova import AnovaRM\n",
    "from statsmodels.stats.multicomp import pairwise_tukeyhsd\n",
    "import pingouin as pg\n",
    "from pingouin import anova as pg_anova\n",
    "from statannot import add_stat_annotation"
   ]
  },
  {
   "cell_type": "markdown",
   "metadata": {},
   "source": [
    "## Charcter-Cued Recall"
   ]
  },
  {
   "cell_type": "code",
   "execution_count": 3,
   "metadata": {},
   "outputs": [
    {
     "name": "stdout",
     "output_type": "stream",
     "text": [
      "['subject', 'version', 'character', 'coherence', 'lag', 'plot', 'response', 'rt', 'stimulus', 'word_count', 'condition']\n"
     ]
    },
    {
     "data": {
      "text/html": [
       "<div>\n",
       "<style scoped>\n",
       "    .dataframe tbody tr th:only-of-type {\n",
       "        vertical-align: middle;\n",
       "    }\n",
       "\n",
       "    .dataframe tbody tr th {\n",
       "        vertical-align: top;\n",
       "    }\n",
       "\n",
       "    .dataframe thead th {\n",
       "        text-align: right;\n",
       "    }\n",
       "</style>\n",
       "<table border=\"1\" class=\"dataframe\">\n",
       "  <thead>\n",
       "    <tr style=\"text-align: right;\">\n",
       "      <th></th>\n",
       "      <th>subject</th>\n",
       "      <th>version</th>\n",
       "      <th>character</th>\n",
       "      <th>coherence</th>\n",
       "      <th>lag</th>\n",
       "      <th>plot</th>\n",
       "      <th>response</th>\n",
       "      <th>rt</th>\n",
       "      <th>stimulus</th>\n",
       "      <th>word_count</th>\n",
       "      <th>condition</th>\n",
       "    </tr>\n",
       "  </thead>\n",
       "  <tbody>\n",
       "    <tr>\n",
       "      <th>0</th>\n",
       "      <td>401</td>\n",
       "      <td>3</td>\n",
       "      <td>Sandra</td>\n",
       "      <td>unrelated</td>\n",
       "      <td>short</td>\n",
       "      <td>sideplot</td>\n",
       "      <td>{\"Q0\":\"Sandra was going on a blind date with a...</td>\n",
       "      <td>183742.3</td>\n",
       "      <td>NaN</td>\n",
       "      <td>87</td>\n",
       "      <td>unrelated_short</td>\n",
       "    </tr>\n",
       "    <tr>\n",
       "      <th>1</th>\n",
       "      <td>401</td>\n",
       "      <td>3</td>\n",
       "      <td>Beatrice</td>\n",
       "      <td>coherent</td>\n",
       "      <td>long</td>\n",
       "      <td>sideplot</td>\n",
       "      <td>{\"Q0\":\"Beatrice was having trouble with her gi...</td>\n",
       "      <td>180485.3</td>\n",
       "      <td>NaN</td>\n",
       "      <td>123</td>\n",
       "      <td>coherent_long</td>\n",
       "    </tr>\n",
       "    <tr>\n",
       "      <th>2</th>\n",
       "      <td>401</td>\n",
       "      <td>3</td>\n",
       "      <td>Melvin</td>\n",
       "      <td>unrelated</td>\n",
       "      <td>long</td>\n",
       "      <td>sideplot</td>\n",
       "      <td>{\"Q0\":\"Melvin Doyle is a friend of the main ch...</td>\n",
       "      <td>180831.0</td>\n",
       "      <td>NaN</td>\n",
       "      <td>93</td>\n",
       "      <td>unrelated_long</td>\n",
       "    </tr>\n",
       "    <tr>\n",
       "      <th>3</th>\n",
       "      <td>401</td>\n",
       "      <td>3</td>\n",
       "      <td>Johnny</td>\n",
       "      <td>coherent</td>\n",
       "      <td>short</td>\n",
       "      <td>sideplot</td>\n",
       "      <td>{\"Q0\":\"Johnny Pratt is a friend of the main ch...</td>\n",
       "      <td>180413.7</td>\n",
       "      <td>NaN</td>\n",
       "      <td>78</td>\n",
       "      <td>coherent_short</td>\n",
       "    </tr>\n",
       "    <tr>\n",
       "      <th>4</th>\n",
       "      <td>401</td>\n",
       "      <td>3</td>\n",
       "      <td>Charles</td>\n",
       "      <td>mainplot</td>\n",
       "      <td>mainplot</td>\n",
       "      <td>mainplot</td>\n",
       "      <td>{\"Q0\":\"Charles Bort is the main character of t...</td>\n",
       "      <td>365204.1</td>\n",
       "      <td>NaN</td>\n",
       "      <td>354</td>\n",
       "      <td>mainplot_mainplot</td>\n",
       "    </tr>\n",
       "  </tbody>\n",
       "</table>\n",
       "</div>"
      ],
      "text/plain": [
       "   subject  version character  coherence       lag      plot  \\\n",
       "0      401        3    Sandra  unrelated     short  sideplot   \n",
       "1      401        3  Beatrice   coherent      long  sideplot   \n",
       "2      401        3    Melvin  unrelated      long  sideplot   \n",
       "3      401        3    Johnny   coherent     short  sideplot   \n",
       "4      401        3   Charles   mainplot  mainplot  mainplot   \n",
       "\n",
       "                                            response        rt  stimulus  \\\n",
       "0  {\"Q0\":\"Sandra was going on a blind date with a...  183742.3       NaN   \n",
       "1  {\"Q0\":\"Beatrice was having trouble with her gi...  180485.3       NaN   \n",
       "2  {\"Q0\":\"Melvin Doyle is a friend of the main ch...  180831.0       NaN   \n",
       "3  {\"Q0\":\"Johnny Pratt is a friend of the main ch...  180413.7       NaN   \n",
       "4  {\"Q0\":\"Charles Bort is the main character of t...  365204.1       NaN   \n",
       "\n",
       "   word_count          condition  \n",
       "0          87    unrelated_short  \n",
       "1         123      coherent_long  \n",
       "2          93     unrelated_long  \n",
       "3          78     coherent_short  \n",
       "4         354  mainplot_mainplot  "
      ]
     },
     "execution_count": 3,
     "metadata": {},
     "output_type": "execute_result"
    }
   ],
   "source": [
    "recall = pd.read_csv('~/Box Sync/aidelarazan_box/Projects/kramer2.0/data/kramer2.0_vA5/kramer2.0_vA5_sub-all_desc-recall.csv')\n",
    "recall['condition'] = recall['coherence'] + '_' + recall['lag']\n",
    "print(recall.columns.tolist())\n",
    "recall.head()"
   ]
  },
  {
   "cell_type": "code",
   "execution_count": 5,
   "metadata": {},
   "outputs": [
    {
     "name": "stdout",
     "output_type": "stream",
     "text": [
      "\n",
      "=============\n",
      "ANOVA SUMMARY\n",
      "=============\n",
      "\n",
      "Source                  SS    ddof1    ddof2         MS       F    p-unc    p-GG-corr    ng2    eps\n",
      "---------------  ---------  -------  -------  ---------  ------  -------  -----------  -----  -----\n",
      "coherence        14200.694        1       35  14200.694  16.902    0.000        0.000  0.046  1.000\n",
      "lag               1308.028        1       35   1308.028   0.993    0.326        0.326  0.004  1.000\n",
      "coherence * lag    802.778        1       35    802.778   0.919    0.344        0.344  0.003  1.000\n",
      "\n",
      "\n",
      "==============\n",
      "POST HOC TESTS\n",
      "==============\n",
      "\n",
      "Contrast    A               B                Paired    Parametric        T     dof  alternative      p-unc    p-corr  p-adjust       BF10    hedges\n",
      "----------  --------------  ---------------  --------  ------------  -----  ------  -------------  -------  --------  ----------  -------  --------\n",
      "condition   coherent_long   coherent_short   True      True          1.339  35.000  two-sided        0.189     1.000  bonf          0.407     0.209\n",
      "condition   coherent_long   unrelated_long   True      True          4.690  35.000  two-sided        0.000     0.000  bonf        563.898     0.546\n",
      "condition   coherent_long   unrelated_short  True      True          3.778  35.000  two-sided        0.001     0.004  bonf         50.421     0.582\n",
      "condition   coherent_short  unrelated_long   True      True          1.620  35.000  two-sided        0.114     0.686  bonf          0.587     0.285\n",
      "condition   coherent_short  unrelated_short  True      True          1.840  35.000  two-sided        0.074     0.446  bonf          0.815     0.315\n",
      "condition   unrelated_long  unrelated_short  True      True          0.172  35.000  two-sided        0.864     1.000  bonf          0.182     0.032\n",
      "\n"
     ]
    }
   ],
   "source": [
    "aov = pg.rm_anova(\n",
    "    data=recall[recall['coherence']!='mainplot'],\n",
    "    dv='word_count',\n",
    "    within=['coherence', 'lag'],\n",
    "    subject='subject',\n",
    "    detailed=True\n",
    ")\n",
    "\n",
    "pg.print_table(aov)\n",
    "\n",
    "post_hoc = pg.pairwise_tests(\n",
    "    data=recall[recall['coherence']!='mainplot'],\n",
    "    dv='word_count',\n",
    "    within='condition',\n",
    "    subject='subject',\n",
    "    padjust='bonf'\n",
    ")\n",
    "\n",
    "pg.print_table(post_hoc)"
   ]
  },
  {
   "cell_type": "code",
   "execution_count": 9,
   "metadata": {},
   "outputs": [
    {
     "name": "stdout",
     "output_type": "stream",
     "text": [
      "    T    dof  alternative      p-val  CI95%            cohen-d    BF10    power\n",
      "-----  -----  -------------  -------  -------------  ---------  ------  -------\n",
      "2.597    142  two-sided        0.010  [ 4.74 34.98]      0.433   3.765    0.732\n",
      "\n",
      "\n"
     ]
    }
   ],
   "source": [
    "ttest = pg.ttest(\n",
    "    x=recall[recall['coherence']=='coherent'].groupby(['subject', 'coherence', 'lag', 'condition']).sum().reset_index()['word_count'],\n",
    "    y=recall[recall['coherence']=='unrelated'].groupby(['subject', 'coherence', 'lag', 'condition']).sum().reset_index()['word_count'],\n",
    "    paired=False\n",
    ")\n",
    "\n",
    "pg.print_table(ttest)\n",
    "\n",
    "print()"
   ]
  },
  {
   "cell_type": "code",
   "execution_count": 10,
   "metadata": {},
   "outputs": [
    {
     "name": "stdout",
     "output_type": "stream",
     "text": [
      "     T    dof  alternative      p-val  CI95%              cohen-d    BF10    power\n",
      "------  -----  -------------  -------  ---------------  ---------  ------  -------\n",
      "-0.772    142  two-sided        0.442  [-21.47   9.42]      0.129   0.235    0.120\n",
      "\n",
      "\n"
     ]
    }
   ],
   "source": [
    "ttest = pg.ttest(\n",
    "    x=recall[recall['lag']=='short'].groupby(['subject', 'coherence', 'lag', 'condition']).sum().reset_index()['word_count'],\n",
    "    y=recall[recall['lag']=='long'].groupby(['subject', 'coherence', 'lag', 'condition']).sum().reset_index()['word_count'],\n",
    "    paired=False\n",
    ")\n",
    "\n",
    "pg.print_table(ttest)\n",
    "\n",
    "print()"
   ]
  },
  {
   "cell_type": "markdown",
   "metadata": {},
   "source": [
    "## Timeline Task"
   ]
  },
  {
   "cell_type": "code",
   "execution_count": 54,
   "metadata": {},
   "outputs": [
    {
     "name": "stdout",
     "output_type": "stream",
     "text": [
      "['subject', 'version', 'character', 'act', 'event', 'position', 'coherence', 'lag', 'plot', 'response', 'rt', 'error', 'abs_error', 'condition', 'exclusion']\n"
     ]
    },
    {
     "data": {
      "text/html": [
       "<div>\n",
       "<style scoped>\n",
       "    .dataframe tbody tr th:only-of-type {\n",
       "        vertical-align: middle;\n",
       "    }\n",
       "\n",
       "    .dataframe tbody tr th {\n",
       "        vertical-align: top;\n",
       "    }\n",
       "\n",
       "    .dataframe thead th {\n",
       "        text-align: right;\n",
       "    }\n",
       "</style>\n",
       "<table border=\"1\" class=\"dataframe\">\n",
       "  <thead>\n",
       "    <tr style=\"text-align: right;\">\n",
       "      <th></th>\n",
       "      <th>subject</th>\n",
       "      <th>version</th>\n",
       "      <th>character</th>\n",
       "      <th>act</th>\n",
       "      <th>event</th>\n",
       "      <th>position</th>\n",
       "      <th>coherence</th>\n",
       "      <th>lag</th>\n",
       "      <th>plot</th>\n",
       "      <th>response</th>\n",
       "      <th>rt</th>\n",
       "      <th>error</th>\n",
       "      <th>abs_error</th>\n",
       "      <th>condition</th>\n",
       "      <th>exclusion</th>\n",
       "    </tr>\n",
       "  </thead>\n",
       "  <tbody>\n",
       "    <tr>\n",
       "      <th>2</th>\n",
       "      <td>401</td>\n",
       "      <td>3</td>\n",
       "      <td>Charles</td>\n",
       "      <td>1</td>\n",
       "      <td>A</td>\n",
       "      <td>1</td>\n",
       "      <td>mainplot</td>\n",
       "      <td>mainplot</td>\n",
       "      <td>mainplot</td>\n",
       "      <td>73.0</td>\n",
       "      <td>7473.4</td>\n",
       "      <td>72.0</td>\n",
       "      <td>72.0</td>\n",
       "      <td>mainplot_mainplot</td>\n",
       "      <td>include</td>\n",
       "    </tr>\n",
       "    <tr>\n",
       "      <th>5</th>\n",
       "      <td>401</td>\n",
       "      <td>3</td>\n",
       "      <td>Charles</td>\n",
       "      <td>1</td>\n",
       "      <td>D</td>\n",
       "      <td>52</td>\n",
       "      <td>mainplot</td>\n",
       "      <td>mainplot</td>\n",
       "      <td>mainplot</td>\n",
       "      <td>62.0</td>\n",
       "      <td>2287.2</td>\n",
       "      <td>10.0</td>\n",
       "      <td>10.0</td>\n",
       "      <td>mainplot_mainplot</td>\n",
       "      <td>include</td>\n",
       "    </tr>\n",
       "    <tr>\n",
       "      <th>6</th>\n",
       "      <td>401</td>\n",
       "      <td>3</td>\n",
       "      <td>Johnny</td>\n",
       "      <td>1</td>\n",
       "      <td>A</td>\n",
       "      <td>58</td>\n",
       "      <td>coherent</td>\n",
       "      <td>short</td>\n",
       "      <td>sideplot</td>\n",
       "      <td>94.0</td>\n",
       "      <td>4923.2</td>\n",
       "      <td>36.0</td>\n",
       "      <td>36.0</td>\n",
       "      <td>coherent_short</td>\n",
       "      <td>include</td>\n",
       "    </tr>\n",
       "    <tr>\n",
       "      <th>7</th>\n",
       "      <td>401</td>\n",
       "      <td>3</td>\n",
       "      <td>Beatrice</td>\n",
       "      <td>2</td>\n",
       "      <td>A</td>\n",
       "      <td>120</td>\n",
       "      <td>coherent</td>\n",
       "      <td>long</td>\n",
       "      <td>sideplot</td>\n",
       "      <td>123.0</td>\n",
       "      <td>2907.9</td>\n",
       "      <td>3.0</td>\n",
       "      <td>3.0</td>\n",
       "      <td>coherent_long</td>\n",
       "      <td>include</td>\n",
       "    </tr>\n",
       "    <tr>\n",
       "      <th>8</th>\n",
       "      <td>401</td>\n",
       "      <td>3</td>\n",
       "      <td>Charles</td>\n",
       "      <td>1</td>\n",
       "      <td>A</td>\n",
       "      <td>2</td>\n",
       "      <td>mainplot</td>\n",
       "      <td>mainplot</td>\n",
       "      <td>mainplot</td>\n",
       "      <td>64.0</td>\n",
       "      <td>3052.3</td>\n",
       "      <td>62.0</td>\n",
       "      <td>62.0</td>\n",
       "      <td>mainplot_mainplot</td>\n",
       "      <td>include</td>\n",
       "    </tr>\n",
       "  </tbody>\n",
       "</table>\n",
       "</div>"
      ],
      "text/plain": [
       "   subject  version character  act event  position coherence       lag  \\\n",
       "2      401        3   Charles    1     A         1  mainplot  mainplot   \n",
       "5      401        3   Charles    1     D        52  mainplot  mainplot   \n",
       "6      401        3    Johnny    1     A        58  coherent     short   \n",
       "7      401        3  Beatrice    2     A       120  coherent      long   \n",
       "8      401        3   Charles    1     A         2  mainplot  mainplot   \n",
       "\n",
       "       plot  response      rt  error  abs_error          condition exclusion  \n",
       "2  mainplot      73.0  7473.4   72.0       72.0  mainplot_mainplot   include  \n",
       "5  mainplot      62.0  2287.2   10.0       10.0  mainplot_mainplot   include  \n",
       "6  sideplot      94.0  4923.2   36.0       36.0     coherent_short   include  \n",
       "7  sideplot     123.0  2907.9    3.0        3.0      coherent_long   include  \n",
       "8  mainplot      64.0  3052.3   62.0       62.0  mainplot_mainplot   include  "
      ]
     },
     "execution_count": 54,
     "metadata": {},
     "output_type": "execute_result"
    }
   ],
   "source": [
    "timeline = pd.read_csv('~/Box Sync/aidelarazan_box/Projects/kramer2.0/data/kramer2.0_vA5/kramer2.0_vA5_sub-all_desc-timeline.csv')\n",
    "timeline['condition'] = timeline['coherence'] + '_' + timeline['lag']\n",
    "timeline = timeline[timeline['exclusion']=='include']\n",
    "print(timeline.columns.tolist())\n",
    "timeline.head()"
   ]
  },
  {
   "cell_type": "code",
   "execution_count": 55,
   "metadata": {},
   "outputs": [],
   "source": [
    "timeline = timeline[timeline['coherence']!='mainplot'].groupby(['subject', 'coherence', 'lag', 'condition']).mean().reset_index()"
   ]
  },
  {
   "cell_type": "code",
   "execution_count": 56,
   "metadata": {},
   "outputs": [
    {
     "name": "stdout",
     "output_type": "stream",
     "text": [
      "\n",
      "=============\n",
      "ANOVA SUMMARY\n",
      "=============\n",
      "\n",
      "Source                 SS    ddof1    ddof2        MS       F    p-unc    p-GG-corr    ng2    eps\n",
      "---------------  --------  -------  -------  --------  ------  -------  -----------  -----  -----\n",
      "coherence         200.347        1       35   200.347   1.000    0.324        0.324  0.005  1.000\n",
      "lag              3039.613        1       35  3039.613  14.358    0.001        0.001  0.074  1.000\n",
      "coherence * lag    59.274        1       35    59.274   0.181    0.673        0.673  0.002  1.000\n",
      "\n",
      "\n",
      "==============\n",
      "POST HOC TESTS\n",
      "==============\n",
      "\n",
      "Contrast    A               B                Paired    Parametric         T     dof  alternative      p-unc    p-corr  p-adjust      BF10    hedges\n",
      "----------  --------------  ---------------  --------  ------------  ------  ------  -------------  -------  --------  ----------  ------  --------\n",
      "condition   coherent_long   coherent_short   True      True          -2.945  35.000  two-sided        0.006     0.034  bonf         6.846    -0.692\n",
      "condition   coherent_long   unrelated_long   True      True           0.247  35.000  two-sided        0.806     1.000  bonf         0.184     0.060\n",
      "condition   coherent_long   unrelated_short  True      True          -2.478  35.000  two-sided        0.018     0.109  bonf         2.554    -0.445\n",
      "condition   coherent_short  unrelated_long   True      True           2.953  35.000  two-sided        0.006     0.034  bonf         6.969     0.643\n",
      "condition   coherent_short  unrelated_short  True      True           1.132  35.000  two-sided        0.266     1.000  bonf         0.323     0.239\n",
      "condition   unrelated_long  unrelated_short  True      True          -1.899  35.000  two-sided        0.066     0.395  bonf         0.896    -0.436\n",
      "\n"
     ]
    }
   ],
   "source": [
    "aov = pg.rm_anova(\n",
    "    data=timeline[timeline['coherence']!='mainplot'],\n",
    "    dv='error',\n",
    "    within=['coherence', 'lag'],\n",
    "    subject='subject',\n",
    "    detailed=True\n",
    ")\n",
    "\n",
    "pg.print_table(aov)\n",
    "\n",
    "post_hoc = pg.pairwise_tests(\n",
    "    data=timeline[timeline['coherence']!='mainplot'],\n",
    "    dv='error',\n",
    "    within='condition',\n",
    "    subject='subject',\n",
    "    padjust='bonf'\n",
    ")\n",
    "\n",
    "pg.print_table(post_hoc)"
   ]
  },
  {
   "cell_type": "code",
   "execution_count": 57,
   "metadata": {},
   "outputs": [
    {
     "name": "stdout",
     "output_type": "stream",
     "text": [
      "\n",
      "=============\n",
      "ANOVA SUMMARY\n",
      "=============\n",
      "\n",
      "Source                 SS    ddof1    ddof2        MS       F    p-unc    p-GG-corr    ng2    eps\n",
      "---------------  --------  -------  -------  --------  ------  -------  -----------  -----  -----\n",
      "coherence          26.174        1       35    26.174   0.231    0.634        0.634  0.001  1.000\n",
      "lag              2052.742        1       35  2052.742  15.539    0.000        0.000  0.089  1.000\n",
      "coherence * lag   191.404        1       35   191.404   1.683    0.203        0.203  0.009  1.000\n",
      "\n",
      "\n",
      "==============\n",
      "POST HOC TESTS\n",
      "==============\n",
      "\n",
      "Contrast    A               B                Paired    Parametric         T     dof  alternative      p-unc    p-corr  p-adjust      BF10    hedges\n",
      "----------  --------------  ---------------  --------  ------------  ------  ------  -------------  -------  --------  ----------  ------  --------\n",
      "condition   coherent_long   coherent_short   True      True           2.045  35.000  two-sided        0.048     0.290  bonf         1.144     0.425\n",
      "condition   coherent_long   unrelated_long   True      True          -1.064  35.000  two-sided        0.294     1.000  bonf         0.302    -0.221\n",
      "condition   coherent_long   unrelated_short  True      True           2.597  35.000  two-sided        0.014     0.082  bonf         3.250     0.549\n",
      "condition   coherent_short  unrelated_long   True      True          -3.180  35.000  two-sided        0.003     0.018  bonf        11.690    -0.670\n",
      "condition   coherent_short  unrelated_short  True      True           0.745  35.000  two-sided        0.461     1.000  bonf         0.232     0.144\n",
      "condition   unrelated_long  unrelated_short  True      True           3.705  35.000  two-sided        0.001     0.004  bonf        41.824     0.795\n",
      "\n"
     ]
    }
   ],
   "source": [
    "aov = pg.rm_anova(\n",
    "    data=timeline[timeline['coherence']!='mainplot'],\n",
    "    dv='abs_error',\n",
    "    within=['coherence', 'lag'],\n",
    "    subject='subject',\n",
    "    detailed=True\n",
    ")\n",
    "\n",
    "pg.print_table(aov)\n",
    "\n",
    "post_hoc = pg.pairwise_tests(\n",
    "    data=timeline[timeline['coherence']!='mainplot'],\n",
    "    dv='abs_error',\n",
    "    within='condition',\n",
    "    subject='subject',\n",
    "    padjust='bonf'\n",
    ")\n",
    "\n",
    "pg.print_table(post_hoc)"
   ]
  },
  {
   "cell_type": "code",
   "execution_count": 58,
   "metadata": {},
   "outputs": [
    {
     "name": "stdout",
     "output_type": "stream",
     "text": [
      "     T    dof  alternative      p-val  CI95%            cohen-d    BF10    power\n",
      "------  -----  -------------  -------  -------------  ---------  ------  -------\n",
      "-0.478     71  two-sided        0.634  [-4.41  2.71]      0.067   0.145    0.086\n",
      "\n",
      "\n"
     ]
    }
   ],
   "source": [
    "ttest = pg.ttest(\n",
    "    x=timeline[timeline['coherence']=='coherent']['abs_error'],\n",
    "    y=timeline[timeline['coherence']=='unrelated']['abs_error'],\n",
    "    paired=True\n",
    ")\n",
    "\n",
    "pg.print_table(ttest)\n",
    "\n",
    "print()"
   ]
  },
  {
   "cell_type": "code",
   "execution_count": 59,
   "metadata": {},
   "outputs": [
    {
     "name": "stdout",
     "output_type": "stream",
     "text": [
      "     T    dof  alternative      p-val  CI95%              cohen-d     BF10    power\n",
      "------  -----  -------------  -------  ---------------  ---------  -------  -------\n",
      "-4.071     71  two-sided        0.000  [-11.25  -3.85]      0.618  173.665    0.999\n",
      "\n",
      "\n"
     ]
    }
   ],
   "source": [
    "ttest = pg.ttest(\n",
    "    x=timeline[timeline['lag']=='short']['abs_error'],\n",
    "    y=timeline[timeline['lag']=='long']['abs_error'],\n",
    "    paired=True\n",
    ")\n",
    "\n",
    "pg.print_table(ttest)\n",
    "\n",
    "print()"
   ]
  },
  {
   "cell_type": "code",
   "execution_count": 64,
   "metadata": {},
   "outputs": [
    {
     "name": "stdout",
     "output_type": "stream",
     "text": [
      "    T    dof  alternative      p-val  CI95%            cohen-d    BF10    power\n",
      "-----  -----  -------------  -------  -------------  ---------  ------  -------\n",
      "0.876     71  two-sided        0.384  [-3.01  7.73]      0.138   0.187    0.212\n",
      "\n",
      "\n"
     ]
    }
   ],
   "source": [
    "ttest = pg.ttest(\n",
    "    x=timeline[timeline['coherence']=='coherent']['error'],\n",
    "    y=timeline[timeline['coherence']=='unrelated']['error'],\n",
    "    paired=True\n",
    ")\n",
    "\n",
    "pg.print_table(ttest)\n",
    "\n",
    "print()"
   ]
  },
  {
   "cell_type": "code",
   "execution_count": 65,
   "metadata": {},
   "outputs": [
    {
     "name": "stdout",
     "output_type": "stream",
     "text": [
      "    T    dof  alternative      p-val  CI95%            cohen-d    BF10    power\n",
      "-----  -----  -------------  -------  -------------  ---------  ------  -------\n",
      "3.375     71  two-sided        0.001  [ 3.76 14.62]      0.558  21.344    0.997\n",
      "\n",
      "\n"
     ]
    }
   ],
   "source": [
    "ttest = pg.ttest(\n",
    "    x=timeline[timeline['lag']=='short']['error'],\n",
    "    y=timeline[timeline['lag']=='long']['error'],\n",
    "    paired=True\n",
    ")\n",
    "\n",
    "pg.print_table(ttest)\n",
    "\n",
    "print()"
   ]
  }
 ],
 "metadata": {
  "kernelspec": {
   "display_name": "kramer",
   "language": "python",
   "name": "python3"
  },
  "language_info": {
   "codemirror_mode": {
    "name": "ipython",
    "version": 3
   },
   "file_extension": ".py",
   "mimetype": "text/x-python",
   "name": "python",
   "nbconvert_exporter": "python",
   "pygments_lexer": "ipython3",
   "version": "3.8.10"
  }
 },
 "nbformat": 4,
 "nbformat_minor": 2
}
